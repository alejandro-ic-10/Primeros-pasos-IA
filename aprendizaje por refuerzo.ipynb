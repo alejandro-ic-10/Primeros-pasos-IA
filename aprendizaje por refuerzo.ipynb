{
 "cells": [
  {
   "cell_type": "markdown",
   "id": "f0b5cef9",
   "metadata": {},
   "source": [
    "# Ejercicio aprendizaje por reforzamiento (grafo)"
   ]
  },
  {
   "cell_type": "markdown",
   "id": "60535e46",
   "metadata": {},
   "source": [
    "## Implementación"
   ]
  },
  {
   "cell_type": "markdown",
   "id": "f5830e29",
   "metadata": {},
   "source": [
    "<p>Este ejercicio trata de resolver un grafo a partir del aprendizaje por reforzamiento, siguiendo el concepto del agente y el ambiente.</p>"
   ]
  },
  {
   "cell_type": "markdown",
   "id": "50da56e7",
   "metadata": {},
   "source": [
    "## 1. Importación de las bibliotecas a utilizar "
   ]
  },
  {
   "cell_type": "code",
   "execution_count": 2,
   "id": "ca5d0415",
   "metadata": {},
   "outputs": [],
   "source": [
    "import numpy as np\n",
    "import pylab as plt\n",
    "import networkx as nx\n",
    "lista_nodos = [(0,1), (1,5), (5,6), (5,4), (1,2), (2,3), (2,7)]"
   ]
  },
  {
   "cell_type": "markdown",
   "id": "61e8b243",
   "metadata": {},
   "source": [
    "## 2. Planteamiento del grafo "
   ]
  },
  {
   "cell_type": "code",
   "execution_count": 8,
   "id": "e66d92d7",
   "metadata": {},
   "outputs": [
    {
     "data": {
      "image/png": "[encoded data removed]",
      "text/plain": [
       "<Figure size 640x480 with 1 Axes>"
      ]
     },
     "metadata": {},
     "output_type": "display_data"
    }
   ],
   "source": [
    "meta = 7\n",
    "\n",
    "grafo = nx.Graph()\n",
    "grafo.add_edges_from(lista_nodos)\n",
    "pos = nx.spring_layout(grafo)\n",
    "nx.draw_networkx_nodes(grafo, pos)\n",
    "nx.draw_networkx_edges(grafo, pos)\n",
    "nx.draw_networkx_labels(grafo, pos)\n",
    "plt.show()"
   ]
  },
  {
   "cell_type": "markdown",
   "id": "e5c1d836",
   "metadata": {},
   "source": [
    "## 3. Planteamiento de los casos de premio/castigo "
   ]
  },
  {
   "cell_type": "markdown",
   "id": "bb7496c0",
   "metadata": {},
   "source": [
    "<p>Formavión de una matriz que ejemplificará el espacio a recorrer por parte del agente y que cada espacio dentro de la matriz contendrá su \"premio\" o \"castigo\" por la ruta que tomó.</p>"
   ]
  },
  {
   "cell_type": "code",
   "execution_count": 9,
   "id": "124e683f",
   "metadata": {},
   "outputs": [
    {
     "data": {
      "text/plain": [
       "matrix([[-1., -1., -1., -1., -1., -1., -1., -1.],\n",
       "        [-1., -1., -1., -1., -1., -1., -1., -1.],\n",
       "        [-1., -1., -1., -1., -1., -1., -1., -1.],\n",
       "        [-1., -1., -1., -1., -1., -1., -1., -1.],\n",
       "        [-1., -1., -1., -1., -1., -1., -1., -1.],\n",
       "        [-1., -1., -1., -1., -1., -1., -1., -1.],\n",
       "        [-1., -1., -1., -1., -1., -1., -1., -1.],\n",
       "        [-1., -1., -1., -1., -1., -1., -1., -1.]])"
      ]
     },
     "execution_count": 9,
     "metadata": {},
     "output_type": "execute_result"
    }
   ],
   "source": [
    "mapa = np.matrix(np.ones(shape = (8,8)))\n",
    "mapa *= -1\n",
    "mapa"
   ]
  },
  {
   "cell_type": "markdown",
   "id": "1f252d5a",
   "metadata": {},
   "source": [
    "## 4. Recorrido de la matriz "
   ]
  },
  {
   "cell_type": "code",
   "execution_count": 11,
   "id": "a748877c",
   "metadata": {},
   "outputs": [
    {
     "name": "stdout",
     "output_type": "stream",
     "text": [
      "[[ -1.   0.  -1.  -1.  -1.  -1.  -1.  -1.]\n",
      " [  0.  -1.   0.  -1.  -1.   0.  -1.  -1.]\n",
      " [ -1.   0.  -1.   0.  -1.  -1.  -1.   0.]\n",
      " [ -1.  -1.   0.  -1.  -1.  -1.  -1.  -1.]\n",
      " [ -1.  -1.  -1.  -1.  -1.   0.  -1.  -1.]\n",
      " [ -1.   0.  -1.  -1.   0.  -1.   0.  -1.]\n",
      " [ -1.  -1.  -1.  -1.  -1.   0.  -1.  -1.]\n",
      " [ -1.  -1.   0.  -1.  -1.  -1.  -1. 100.]]\n"
     ]
    }
   ],
   "source": [
    "for nodo in lista_nodos:\n",
    "    if nodo == meta:\n",
    "        mapa[nodo] = 100\n",
    "    else:\n",
    "        mapa[nodo] = 0\n",
    "    \n",
    "    if nodo[0] == meta:\n",
    "        mapa[nodo[::-1]] = 100\n",
    "        print(mapa[nodo::-1])\n",
    "    else:\n",
    "        mapa[nodo[::-1]] = 0\n",
    "mapa[meta, meta] = 100\n",
    "print(mapa)"
   ]
  },
  {
   "cell_type": "markdown",
   "id": "41e18e8d",
   "metadata": {},
   "source": [
    "## 5. Parámetros de aprendizaje "
   ]
  },
  {
   "cell_type": "code",
   "execution_count": null,
   "id": "c8d7a18a",
   "metadata": {},
   "outputs": [],
   "source": [
    "matriz_learning = np.matrix(np.zeros([8,8]))\n",
    "gamma = 0.8\n",
    "estado_inicial = 3"
   ]
  }
 ],
 "metadata": {
  "kernelspec": {
   "display_name": "Python 3 (ipykernel)",
   "language": "python",
   "name": "python3"
  },
  "language_info": {
   "codemirror_mode": {
    "name": "ipython",
    "version": 3
   },
   "file_extension": ".py",
   "mimetype": "text/x-python",
   "name": "python",
   "nbconvert_exporter": "python",
   "pygments_lexer": "ipython3",
   "version": "3.10.9"
  }
 },
 "nbformat": 4,
 "nbformat_minor": 5
}
