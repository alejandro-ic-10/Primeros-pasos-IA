{
 "cells": [
  {
   "cell_type": "markdown",
   "id": "0b07aa50",
   "metadata": {},
   "source": [
    "# Ejercicio aprendizaje no supervisado (algoritmo de clasificación)"
   ]
  },
  {
   "cell_type": "markdown",
   "id": "e6b61b32",
   "metadata": {},
   "source": [
    "## Implementación"
   ]
  },
  {
   "cell_type": "markdown",
   "id": "3bc7a631",
   "metadata": {},
   "source": [
    "<p>Este ejercicio ejemplifica el como funciona un algoritmo del tipo supervisado, específicamente K-Means. El reto aquí es que nuestro algoritmo sea capaz de clasificar el tipo de flor en función de sus medidas de céfalo y pétalo.<p>"
   ]
  },
  {
   "cell_type": "markdown",
   "id": "711d4d81",
   "metadata": {},
   "source": [
    "## 1. Importación de las bibliotecas a utilizar"
   ]
  },
  {
   "cell_type": "markdown",
   "id": "168471ba",
   "metadata": {},
   "source": [
    "Es este apartado importamos todas las bibliotecas que vayamos a utilizar en función del algoritmo de clasificación elegido, además del set de datos, este viene incluido en la biblioteca de sklearn."
   ]
  },
  {
   "cell_type": "code",
   "execution_count": 3,
   "id": "e6a0c71f",
   "metadata": {},
   "outputs": [],
   "source": [
    "from sklearn.cluster import KMeans\n",
    "from sklearn import datasets\n",
    "from sklearn import metrics \n",
    "\n",
    "data = datasets.load_iris()"
   ]
  },
  {
   "cell_type": "markdown",
   "id": "0a65d7a2",
   "metadata": {},
   "source": [
    "## 2. Separación de los datos en entrenamiento y predicción "
   ]
  },
  {
   "cell_type": "code",
   "execution_count": 7,
   "id": "d1d9b984",
   "metadata": {},
   "outputs": [],
   "source": [
    "#Obtenemos 4 variables en las cuales se va a depositar datos de entrenamiento y prueba\n",
    "x = data.data\n",
    "y = data.target"
   ]
  },
  {
   "cell_type": "markdown",
   "id": "efc0389a",
   "metadata": {},
   "source": [
    "## 3. Implementación del algoritmo de clasificación-predicción "
   ]
  },
  {
   "cell_type": "code",
   "execution_count": 10,
   "id": "13c57feb",
   "metadata": {},
   "outputs": [
    {
     "data": {
      "text/plain": [
       "0.9736842105263158"
      ]
     },
     "execution_count": 10,
     "metadata": {},
     "output_type": "execute_result"
    }
   ],
   "source": [
    "#A partir de la biblioteca de sklearn, en específico el algoritmo KNN\n",
    "km = KMeans(n_clusters = 3, max_iter = 1000)\n",
    "km.fit(x)\n",
    "prediccion = km.predict(x)"
   ]
  },
  {
   "cell_type": "markdown",
   "id": "22ab46e0",
   "metadata": {},
   "source": [
    "## 4. Análisis de resultados  "
   ]
  },
  {
   "cell_type": "code",
   "execution_count": null,
   "id": "314252bc",
   "metadata": {},
   "outputs": [],
   "source": [
    "score = metrics.adjusted_rand_score(y, prediccion)\n",
    "score"
   ]
  }
 ],
 "metadata": {
  "kernelspec": {
   "display_name": "Python 3 (ipykernel)",
   "language": "python",
   "name": "python3"
  },
  "language_info": {
   "codemirror_mode": {
    "name": "ipython",
    "version": 3
   },
   "file_extension": ".py",
   "mimetype": "text/x-python",
   "name": "python",
   "nbconvert_exporter": "python",
   "pygments_lexer": "ipython3",
   "version": "3.10.9"
  }
 },
 "nbformat": 4,
 "nbformat_minor": 5
}
