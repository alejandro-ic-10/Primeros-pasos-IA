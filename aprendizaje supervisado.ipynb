{
 "cells": [
  {
   "cell_type": "markdown",
   "id": "0b07aa50",
   "metadata": {},
   "source": [
    "# Ejercicio aprendizaje supervisado (algoritmo de clasificación)"
   ]
  },
  {
   "cell_type": "markdown",
   "id": "e6b61b32",
   "metadata": {},
   "source": [
    "## Implementación"
   ]
  },
  {
   "cell_type": "markdown",
   "id": "3bc7a631",
   "metadata": {},
   "source": [
    "<p>Este ejercicio ejemplifica el como funciona un algoritmo del tipo supervisado, específicamente K-NN. El reto aquí es que nuestro algoritmo sea capaz de clasificar el tipo de flor en función de sus medidas de céfalo y pétalo.<p>"
   ]
  },
  {
   "cell_type": "markdown",
   "id": "711d4d81",
   "metadata": {},
   "source": [
    "## 1. Importación de las bibliotecas a utilizar"
   ]
  },
  {
   "cell_type": "markdown",
   "id": "c45fbd31",
   "metadata": {},
   "source": [
    "Es este apartado importamos todas las bibliotecas que vayamos a utilizar en función del algoritmo de clasificación elegido, además del set de datos, este viene incluido en la biclioteca de sklearn."
   ]
  },
  {
   "cell_type": "code",
   "execution_count": 12,
   "id": "e6a0c71f",
   "metadata": {},
   "outputs": [],
   "source": [
    "import sklearn\n",
    "from sklearn.datasets import load_iris\n",
    "from sklearn.model_selection import train_test_split\n",
    "\n",
    "data = load_iris()\n"
   ]
  },
  {
   "cell_type": "markdown",
   "id": "0a65d7a2",
   "metadata": {},
   "source": [
    "## 2. Separación de los datos en entretamiento y prueba "
   ]
  },
  {
   "cell_type": "code",
   "execution_count": 7,
   "id": "d1d9b984",
   "metadata": {},
   "outputs": [],
   "source": [
    "#Obtenemos 4 variables en las cuales se va a depositar datos de entrenamiento y prueba\n",
    "x_train, x_test, y_train, y_test = train_test_split(data['data'], data['target'])"
   ]
  },
  {
   "cell_type": "markdown",
   "id": "b97683be",
   "metadata": {},
   "source": [
    "## 3. Implementación del algoritmo de clasificación "
   ]
  },
  {
   "cell_type": "code",
   "execution_count": 10,
   "id": "72ff365b",
   "metadata": {},
   "outputs": [
    {
     "data": {
      "text/plain": [
       "0.9736842105263158"
      ]
     },
     "execution_count": 10,
     "metadata": {},
     "output_type": "execute_result"
    }
   ],
   "source": [
    "#A partir de la biblioteca de sklearn, en específico el algoritmo KNN\n",
    "from sklearn.neighbors import KNeighborsClassifier\n",
    "knn = KNeighborsClassifier(n_neighbors = 7)\n",
    "knn.fit(x_train, y_train)\n",
    "knn.score(x_test, y_test)"
   ]
  }
 ],
 "metadata": {
  "kernelspec": {
   "display_name": "Python 3 (ipykernel)",
   "language": "python",
   "name": "python3"
  },
  "language_info": {
   "codemirror_mode": {
    "name": "ipython",
    "version": 3
   },
   "file_extension": ".py",
   "mimetype": "text/x-python",
   "name": "python",
   "nbconvert_exporter": "python",
   "pygments_lexer": "ipython3",
   "version": "3.10.9"
  }
 },
 "nbformat": 4,
 "nbformat_minor": 5
}
